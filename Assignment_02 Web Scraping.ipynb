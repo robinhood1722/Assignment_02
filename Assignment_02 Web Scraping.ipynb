{
 "cells": [
  {
   "cell_type": "code",
   "execution_count": null,
   "id": "4758dd6a",
   "metadata": {},
   "outputs": [],
   "source": [
    "pip install bs4"
   ]
  },
  {
   "cell_type": "code",
   "execution_count": 1,
   "id": "c85ce0e7",
   "metadata": {},
   "outputs": [],
   "source": [
    "import requests \n",
    "from bs4 import BeautifulSoup\n",
    "import pandas as pd\n"
   ]
  },
  {
   "cell_type": "code",
   "execution_count": 2,
   "id": "30ecea48",
   "metadata": {},
   "outputs": [],
   "source": [
    "url = \"https://quotes.toscrape.com/page/1/\""
   ]
  },
  {
   "cell_type": "code",
   "execution_count": 3,
   "id": "31217951",
   "metadata": {},
   "outputs": [],
   "source": [
    "response = requests.get(url)"
   ]
  },
  {
   "cell_type": "code",
   "execution_count": 4,
   "id": "af0022e7",
   "metadata": {},
   "outputs": [],
   "source": [
    "response = response.content"
   ]
  },
  {
   "cell_type": "code",
   "execution_count": 5,
   "id": "93ead1e1",
   "metadata": {},
   "outputs": [],
   "source": [
    "soup = BeautifulSoup(response,'html.parser')"
   ]
  },
  {
   "cell_type": "code",
   "execution_count": 18,
   "id": "ef33afcd",
   "metadata": {},
   "outputs": [],
   "source": [
    "div = soup.find_all('div',class_= 'quote')"
   ]
  },
  {
   "cell_type": "code",
   "execution_count": 25,
   "id": "3d3c231c",
   "metadata": {},
   "outputs": [
    {
     "name": "stdout",
     "output_type": "stream",
     "text": [
      "“The world as we have created it is a process of our thinking. It cannot be changed without changing our thinking.”\n",
      "change\n",
      "“It is our choices, Harry, that show what we truly are, far more than our abilities.”\n",
      "abilities\n",
      "“There are only two ways to live your life. One is as though nothing is a miracle. The other is as though everything is a miracle.”\n",
      "inspirational\n",
      "“The person, be it gentleman or lady, who has not pleasure in a good novel, must be intolerably stupid.”\n",
      "aliteracy\n",
      "“Imperfection is beauty, madness is genius and it's better to be absolutely ridiculous than absolutely boring.”\n",
      "be-yourself\n",
      "“Try not to become a man of success. Rather become a man of value.”\n",
      "adulthood\n",
      "“It is better to be hated for what you are than to be loved for what you are not.”\n",
      "life\n",
      "“I have not failed. I've just found 10,000 ways that won't work.”\n",
      "edison\n",
      "“A woman is like a tea bag; you never know how strong it is until it's in hot water.”\n",
      "misattributed-eleanor-roosevelt\n",
      "“A day without sunshine is like, you know, night.”\n",
      "humor\n"
     ]
    }
   ],
   "source": [
    "def scrape_all_pages(n, q, t):\n",
    "    for page in range(1,11):\n",
    "\n",
    "        url = f'http://quotes.toscrape.com/page/{page}/'\n",
    "        response = requests.get(url)\n",
    "\n",
    "        soup = BeautifulSoup(response.text, \"lxml\")\n",
    "        div = soup.find_all(\"div\", class_ = \"quote\")\n",
    "\n",
    "        for k in range(len(div)):\n",
    "            span = div[k].find_all(\"span\")\n",
    "\n",
    "            q.append(span[0].text)\n",
    "\n",
    "            n.append(span[1].text.split('\\n')[0][3:])\n",
    "\n",
    "            div_tag = div[k].find_all(\"div\")\n",
    "\n",
    "            tags = div_tag[0].find_all('a')\n",
    "\n",
    "            t.append(\",\".join([i.text for i in tags]))\n",
    "    return n, q, t"
   ]
  },
  {
   "cell_type": "code",
   "execution_count": null,
   "id": "5b013589",
   "metadata": {},
   "outputs": [],
   "source": []
  },
  {
   "cell_type": "code",
   "execution_count": null,
   "id": "bba2d3c9",
   "metadata": {},
   "outputs": [],
   "source": []
  },
  {
   "cell_type": "code",
   "execution_count": null,
   "id": "b0f13687",
   "metadata": {},
   "outputs": [],
   "source": []
  }
 ],
 "metadata": {
  "kernelspec": {
   "display_name": "Python 3 (ipykernel)",
   "language": "python",
   "name": "python3"
  },
  "language_info": {
   "codemirror_mode": {
    "name": "ipython",
    "version": 3
   },
   "file_extension": ".py",
   "mimetype": "text/x-python",
   "name": "python",
   "nbconvert_exporter": "python",
   "pygments_lexer": "ipython3",
   "version": "3.10.9"
  }
 },
 "nbformat": 4,
 "nbformat_minor": 5
}
